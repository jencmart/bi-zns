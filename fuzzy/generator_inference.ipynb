{
 "cells": [
  {
   "cell_type": "code",
   "execution_count": 115,
   "metadata": {},
   "outputs": [
    {
     "name": "stdout",
     "output_type": "stream",
     "text": [
      "IF Apple_iPhone_7 THEN velikost_ram_v_MB=prumerna && kvalita_fotek_1_10=perfektni && \n",
      "IF Apple_iPhone_5c THEN velikost_ram_v_MB=nadprumerna && kvalita_fotek_1_10=spatna && \n",
      "IF Apple_iPhone THEN kvalita_fotek_1_10=brambora && frekvence_CPU_MHz=velka && kvalita_zpracovani_1_10=prumermna && \n",
      "IF Nokia_2216 THEN velikost_ram_v_MB=nedostatecna && frekvence_CPU_MHz=stredni && \n",
      "IF Google_Pixel_3 THEN frekvence_CPU_MHz=stredni && velikost_ram_v_MB=nadprumerna && \n",
      "IF Apple_iPhone_X THEN kvalita_fotek_1_10=spatna && frekvence_CPU_MHz=stredni && \n",
      "IF Google_Pixel_2 THEN kvalita_zpracovani_1_10=hrozna && frekvence_CPU_MHz=velka && kvalita_fotek_1_10=perfektni && \n",
      "IF Nokia_11c THEN kvalita_fotek_1_10=perfektni && kvalita_zpracovani_1_10=prumermna && frekvence_CPU_MHz=velka && \n",
      "IF Asus_Zenphone_3 THEN vaha=mala && kvalita_zpracovani_1_10=hrozna && \n",
      "IF Apple_iPhone_6 THEN kvalita_fotek_1_10=prumerna && kvalita_zpracovani_1_10=hrozna && \n",
      "IF Nokia_3510i THEN vaha=velka && kvalita_fotek_1_10=spatna && \n",
      "IF Apple_iPhone_8 THEN kvalita_zpracovani_1_10=prumermna && vaha=mala && velikost_ram_v_MB=prumerna && \n",
      "IF Apple_iPhone_XS THEN frekvence_CPU_MHz=stredni && kvalita_zpracovani_1_10=hrozna && kvalita_fotek_1_10=perfektni && \n",
      "IF Huawei_Mate_20 THEN kvalita_fotek_1_10=brambora && velikost_ram_v_MB=prumerna && frekvence_CPU_MHz=stredni && \n",
      "IF Nokia_N53 THEN velikost_ram_v_MB=nadprumerna && kvalita_fotek_1_10=spatna && \n",
      "IF Huawei_Mate_10 THEN velikost_ram_v_MB=prumerna && frekvence_CPU_MHz=velka && \n"
     ]
    }
   ],
   "source": [
    "from random import *\n",
    "\n",
    "terminals = {\"Nokia_3510i\",\n",
    "             \"Nokia_2216\",\n",
    "             \"Nokia_11c\",\n",
    "             \"Nokia_N53\",\n",
    "             \"Huawei_Mate_20\",\n",
    "             \"Huawei_Mate_10\",\n",
    "             \"Asus_Zenphone_3\",\n",
    "             \"Apple_iPhone_X\",\n",
    "             \"Apple_iPhone_8\",\n",
    "             \"Apple_iPhone_7\",\n",
    "             \"Apple_iPhone_6\",\n",
    "             \"Apple_iPhone_5c\",\n",
    "             \"Apple_iPhone\",\n",
    "             \"Apple_iPhone_XS\",\n",
    "             \"Google_Pixel_3\",\n",
    "             \"Google_Pixel_2\"\n",
    "}\n",
    "\n",
    "sources = {\n",
    "    1 :{'set_name' : 'vaha' , 'values' : [\"mala\", \"stredni\", \"velka\"]},\n",
    "    2 :{'set_name' : 'kvalita_zpracovani_1_10' , 'values' : [\"hrozna\", \"prumermna\", \"spickova\"]},\n",
    "    3 :{'set_name' : 'kvalita_fotek_1_10' , 'values' : [\"brambora\", \"spatna\", \"prumerna\", \"perfektni\"]},\n",
    "    4 :{'set_name' : 'velikost_ram_v_MB' , 'values' : [\"nedostatecna\", \"prumerna\", \"nadprumerna\"]},\n",
    "    5 :{'set_name' : 'frekvence_CPU_MHz' , 'values' : [\"mala\", \"stredni\", \"velka\"]}\n",
    "          }\n",
    "\n",
    "def give_me_then():\n",
    "    cnt_rules = randint(2, 3)\n",
    "    items = [1, 2, 3, 4, 5]\n",
    "    selected_spaces = sample(items, cnt_rules) \n",
    "    \n",
    "    strings = ''\n",
    "    \n",
    "    for i in selected_spaces: # projdi icka\n",
    "        strings += sources[i]['set_name'] + '=' + sources[i]['values'][randint(0,len(sources[i]['values']) - 1)] + ' && '\n",
    "    return strings\n",
    "\n",
    "for t in terminals:\n",
    "    print(\"IF \" + t + \" THEN \" + give_me_then())"
   ]
  },
  {
   "cell_type": "code",
   "execution_count": null,
   "metadata": {},
   "outputs": [],
   "source": []
  }
 ],
 "metadata": {
  "kernelspec": {
   "display_name": "Python 3",
   "language": "python",
   "name": "python3"
  },
  "language_info": {
   "codemirror_mode": {
    "name": "ipython",
    "version": 3
   },
   "file_extension": ".py",
   "mimetype": "text/x-python",
   "name": "python",
   "nbconvert_exporter": "python",
   "pygments_lexer": "ipython3",
   "version": "3.7.0"
  }
 },
 "nbformat": 4,
 "nbformat_minor": 2
}
